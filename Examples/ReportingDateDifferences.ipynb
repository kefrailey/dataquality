{
 "cells": [
  {
   "cell_type": "code",
   "execution_count": 232,
   "id": "ef674734",
   "metadata": {},
   "outputs": [
    {
     "data": {
      "text/plain": [
       "'Observation Date Simulator\\n\\nSimulates the effects of lab capacity and testing access changes\\non data recorded by sample date versus diagnosis date.\\n'"
      ]
     },
     "execution_count": 232,
     "metadata": {},
     "output_type": "execute_result"
    }
   ],
   "source": [
    "\"\"\"Observation Date Simulator\n",
    "\n",
    "Simulates the effects of lab capacity and testing access changes\n",
    "on data recorded by sample date versus diagnosis date.\n",
    "\"\"\"\n"
   ]
  },
  {
   "cell_type": "code",
   "execution_count": 233,
   "id": "c93cd284",
   "metadata": {},
   "outputs": [],
   "source": [
    "import notebooks.src.visualizingrestatements.visualizingrestatements as vs"
   ]
  },
  {
   "cell_type": "code",
   "execution_count": 234,
   "id": "20ee505b",
   "metadata": {},
   "outputs": [],
   "source": [
    "import pandas as pd\n",
    "import matplotlib.pyplot as plt\n",
    "from copy import copy\n",
    "import numpy as np\n",
    "import matplotlib.ticker as mticker"
   ]
  },
  {
   "cell_type": "code",
   "execution_count": 235,
   "id": "e47528a4",
   "metadata": {},
   "outputs": [],
   "source": [
    "num_days = 10\n",
    "\n",
    "samples = [10]*num_days\n",
    "\n",
    "days = range(num_days)\n",
    "\n",
    "capacity = [7]*num_days\n",
    "\n",
    "increase = [1,1,2,3,5,8,13,21,34,55]"
   ]
  },
  {
   "cell_type": "code",
   "execution_count": 236,
   "id": "638409da",
   "metadata": {},
   "outputs": [],
   "source": [
    "def report_by_diagnosis_date(samples, days, capacity):\n",
    "    \n",
    "    releases = []\n",
    "    release = []\n",
    "    backlog = 0\n",
    "    \n",
    "    for day in days: # everyday\n",
    "        \n",
    "        backlog += samples[day] # add today's samples to the backlog\n",
    "        diagnosed = min(capacity[day], backlog) # diagnose as many as possible\n",
    "        backlog -= diagnosed # remove the diagnosed from the backlog\n",
    "        \n",
    "        release = copy(release)\n",
    "        release.append(diagnosed) # add today's diagnosed \n",
    "        \n",
    "        releases.append(release) # add today's release\n",
    "    \n",
    "    return pd.DataFrame(releases, columns=days, index=days).T"
   ]
  },
  {
   "cell_type": "code",
   "execution_count": 237,
   "id": "65dabb63",
   "metadata": {},
   "outputs": [],
   "source": [
    "def report_by_sample_date(samples, days, capacity):\n",
    "    \n",
    "    backlog = []\n",
    "    releases = []\n",
    "    release = []\n",
    "    \n",
    "    for day in days: # everyday\n",
    "\n",
    "        c = capacity[day] # the capacity resets\n",
    "        backlog.append(samples[day]) #add today's samples to the backlog\n",
    "        diagnosed = [0]*len(backlog)\n",
    "        i = 0\n",
    "            \n",
    "        for i, b in enumerate(backlog): #for each day in the backlog\n",
    "            if c <1: # if there's still capacity left\n",
    "                break\n",
    "            d = min(b, c) # diagnose as much as you can\n",
    "            diagnosed[i] = d # record your diagnosis\n",
    "            c -= d # reduce the remaining capacity\n",
    "            \n",
    "                    \n",
    "        backlog = [bd - dd for bd, dd in zip(backlog, diagnosed)] # update the backlog\n",
    "        release = copy(release)\n",
    "        release.append(0) # extend the release to today\n",
    "        release = [rd + dd for rd, dd in zip(release, diagnosed)] # add the newly diagnosed\n",
    "        releases.append(release)\n",
    "        \n",
    "    return pd.DataFrame(releases, columns=days, index=days).T"
   ]
  },
  {
   "cell_type": "code",
   "execution_count": 238,
   "id": "498b161f",
   "metadata": {},
   "outputs": [],
   "source": [
    "def add_plot_shift(releases_df, shift=.05):\n",
    "    df = pd.DataFrame()\n",
    "    \n",
    "    for i, col_info in enumerate(releases_df.iteritems()):\n",
    "        name, vals = col_info\n",
    "        df[f'Release {name}'] = vals + (i * shift)\n",
    "    \n",
    "    return df"
   ]
  },
  {
   "cell_type": "code",
   "execution_count": 239,
   "id": "75c4cfba",
   "metadata": {},
   "outputs": [],
   "source": [
    "def backlog(capacity, samples):\n",
    "    num = len(capacity)\n",
    "    vals = [0]*num\n",
    "    remainder = 0\n",
    "    \n",
    "    for i in range(num): \n",
    "        vals[i] = samples[i] + remainder - capacity[i]\n",
    "        remainder = vals[i]\n",
    "        \n",
    "    return vals\n",
    "        "
   ]
  },
  {
   "cell_type": "code",
   "execution_count": 240,
   "id": "6264128d",
   "metadata": {},
   "outputs": [],
   "source": [
    "def plot_with_truth(\n",
    "    title,\n",
    "    samples, days, capacity,\n",
    "    func = report_by_diagnosis_date,\n",
    "    kind=\"Diagnosis Date\"\n",
    "):\n",
    "\n",
    "    label = f'Reporting by {kind}' \n",
    "    \n",
    "    releases = func(samples, days, capacity)\n",
    "    releases_p = add_plot_shift(releases)\n",
    "\n",
    "    colors = plt.cm.Reds(np.linspace(0, 1, len(samples)))\n",
    "    \n",
    "    plt.style.use('../Style/plot.mplstyle')\n",
    "    fig, axs = plt.subplots(1, 2, figsize=(20,7), sharex=True, sharey=True, squeeze=False)\n",
    "\n",
    "    axs[0][0].plot(samples, 'b:', color='red', linewidth=4, label='samples')\n",
    "    axs[0][0].plot(capacity, 'c--', linewidth=2, label='capacity')\n",
    "    axs[0][0].plot(backlog(capacity, samples), linestyle='dashdot' , color='violet', linewidth=2, label='backlog')\n",
    "    axs[0][0].spines['top'].set_visible(False)\n",
    "    axs[0][0].spines['right'].set_visible(False)\n",
    "    plt.xlabel('Observation Date', fontsize=15)\n",
    "    plt.ylabel('Tests', fontsize=15)\n",
    "    plt.suptitle(label + \": \" + title, fontsize = 24)\n",
    "    releases_p.plot(xlim = (0,10), ylim=(0, 20), cmap=\"Reds\", ax=axs[0][1], fontsize=15)\n",
    "    axs[0][0].yaxis.set_major_locator(mticker.MultipleLocator(2))\n",
    "    axs[0][0].legend(loc='upper left', bbox_to_anchor=(.9, .95), fontsize=15)\n",
    "    axs[0][1].legend(loc='upper left', bbox_to_anchor=(.9, .95), fontsize=15)\n",
    "    axs[0][0].tick_params(axis='both',labelsize=20)\n",
    "    axs[0][1].tick_params(axis='x',labelsize=20)\n",
    "    plt.plot()\n",
    "    vs.df_to_latex(\n",
    "    releases.astype('Int64') ,\n",
    "    f'example_{title}_{kind}')\n",
    "    plt.savefig(f'../latex/plots/example_{title}_{kind}.png', bbox_inches=\"tight\")\n",
    "    plt.clf()"
   ]
  },
  {
   "cell_type": "code",
   "execution_count": 241,
   "id": "6f811544",
   "metadata": {},
   "outputs": [
    {
     "data": {
      "text/plain": [
       "<Figure size 1440x504 with 0 Axes>"
      ]
     },
     "metadata": {},
     "output_type": "display_data"
    }
   ],
   "source": [
    "table = plot_with_truth(\"Over Capacity\",\n",
    "                samples, days, capacity)"
   ]
  },
  {
   "cell_type": "code",
   "execution_count": 242,
   "id": "a92f24ec",
   "metadata": {},
   "outputs": [
    {
     "data": {
      "text/plain": [
       "<Figure size 1440x504 with 0 Axes>"
      ]
     },
     "metadata": {},
     "output_type": "display_data"
    }
   ],
   "source": [
    "plot_with_truth(\"Over Capacity\",\n",
    "                samples, days, capacity,\n",
    "                report_by_sample_date, \"Sample Date\")"
   ]
  },
  {
   "cell_type": "code",
   "execution_count": 243,
   "id": "6141ebf1",
   "metadata": {},
   "outputs": [
    {
     "data": {
      "text/plain": [
       "<Figure size 1440x504 with 0 Axes>"
      ]
     },
     "metadata": {},
     "output_type": "display_data"
    }
   ],
   "source": [
    "plot_with_truth(\"Capacity Increase\",\n",
    "                samples, days, increase)"
   ]
  },
  {
   "cell_type": "code",
   "execution_count": 244,
   "id": "135d444e",
   "metadata": {},
   "outputs": [
    {
     "data": {
      "text/plain": [
       "<Figure size 1440x504 with 0 Axes>"
      ]
     },
     "metadata": {},
     "output_type": "display_data"
    }
   ],
   "source": [
    "plot_with_truth(\"Capacity Increase\",\n",
    "                samples, days, increase,\n",
    "                report_by_sample_date, \"Sample Date\")"
   ]
  },
  {
   "cell_type": "code",
   "execution_count": 245,
   "id": "c4d8dd91",
   "metadata": {},
   "outputs": [
    {
     "data": {
      "text/plain": [
       "<Figure size 1440x504 with 0 Axes>"
      ]
     },
     "metadata": {},
     "output_type": "display_data"
    },
    {
     "data": {
      "text/plain": [
       "<Figure size 1440x504 with 0 Axes>"
      ]
     },
     "metadata": {},
     "output_type": "display_data"
    }
   ],
   "source": [
    "plot_with_truth(\"Testing Access Increase\",\n",
    "                increase, days, capacity)\n",
    "plot_with_truth(\"Testing Access Increase\",\n",
    "                increase, days, capacity,\n",
    "                report_by_sample_date, \"Sample Date\")"
   ]
  },
  {
   "cell_type": "markdown",
   "id": "f8240c51",
   "metadata": {},
   "source": [
    "# DO NOT ADD BELOW TO SCRIPT"
   ]
  },
  {
   "cell_type": "code",
   "execution_count": 246,
   "id": "5d5d32a3",
   "metadata": {},
   "outputs": [
    {
     "name": "stdout",
     "output_type": "stream",
     "text": [
      "[NbConvertApp] Converting notebook ReportingDateDifferences.ipynb to script\n",
      "[NbConvertApp] Writing 6109 bytes to ReportingDateDifferences.py\n"
     ]
    }
   ],
   "source": [
    "! jupyter nbconvert --to script ReportingDateDifferences.ipynb"
   ]
  },
  {
   "cell_type": "code",
   "execution_count": 247,
   "id": "8832ba0d",
   "metadata": {},
   "outputs": [],
   "source": [
    "! cp ReportingDateDifferences.py ../latex/code/notebooks/ReportingDateDifferences.py"
   ]
  },
  {
   "cell_type": "code",
   "execution_count": 248,
   "id": "a25b628c",
   "metadata": {},
   "outputs": [],
   "source": [
    "import re\n",
    "\n",
    "f_name = \"../latex/code/notebooks/ReportingDateDifferences.py\"\n",
    "do_not_add_below_to_script = \"# DO NOT ADD BELOW TO SCRIPT\" # must match the markdown above!\n",
    "skip = 0\n",
    "cell_nums = re.escape(\"# In[\") + r\"[0-9]*\" + re.escape(\"]:\")\n",
    "\n",
    "with open(f_name, \"r\") as f:\n",
    "    lines = f.readlines() # get a list of lines from the converted script\n",
    "\n",
    "with open(f_name, \"w\") as f: # overwrite the original converted script\n",
    "\n",
    "    for line in lines:\n",
    "        \n",
    "        if re.search(cell_nums , line.strip()): # don't include the '#In[##]:' lines\n",
    "            skip = 2\n",
    "\n",
    "        elif skip > 0 and line == \"\\n\": # trim extra blank lines below #In[##]:' lines\n",
    "            skip -=1\n",
    "        \n",
    "        elif re.search(do_not_add_below_to_script, line): # don't include this code \n",
    "            break\n",
    "\n",
    "        else:\n",
    "            f.write(line)"
   ]
  }
 ],
 "metadata": {
  "kernelspec": {
   "display_name": "Python 3",
   "language": "python",
   "name": "python3"
  },
  "language_info": {
   "codemirror_mode": {
    "name": "ipython",
    "version": 3
   },
   "file_extension": ".py",
   "mimetype": "text/x-python",
   "name": "python",
   "nbconvert_exporter": "python",
   "pygments_lexer": "ipython3",
   "version": "3.8.8"
  }
 },
 "nbformat": 4,
 "nbformat_minor": 5
}
