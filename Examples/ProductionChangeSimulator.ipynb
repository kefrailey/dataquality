{
 "cells": [
  {
   "cell_type": "code",
   "execution_count": 1,
   "id": "493520e0",
   "metadata": {},
   "outputs": [
    {
     "data": {
      "text/plain": [
       "'Production Change Release Simulator\\n\\nSimulates the effects of a change in data production\\non releases\\n'"
      ]
     },
     "execution_count": 1,
     "metadata": {},
     "output_type": "execute_result"
    }
   ],
   "source": [
    "\"\"\"Production Change Release Simulator\n",
    "\n",
    "Simulates the effects of a change in data production\n",
    "on releases\n",
    "\"\"\"\n"
   ]
  },
  {
   "cell_type": "code",
   "execution_count": 18,
   "id": "cb97d0dd",
   "metadata": {},
   "outputs": [],
   "source": [
    "import pandas as pd\n",
    "import matplotlib.pyplot as plt\n",
    "from copy import copy\n",
    "import numpy as np\n",
    "from math import floor, ceil\n",
    "from collections import defaultdict\n",
    "import matplotlib.ticker as mtk\n",
    "import notebooks.src.visualizingrestatements.visualizingrestatements as vs"
   ]
  },
  {
   "cell_type": "code",
   "execution_count": 3,
   "id": "bfa55b74",
   "metadata": {},
   "outputs": [],
   "source": [
    "num_days = 10\n",
    "\n",
    "confirmed = [floor(abs(2 - each)*1.75 + 5) for each in range(num_days)]\n",
    "\n",
    "probable = [ceil(each*1.25) for each in confirmed]\n",
    "\n",
    "days = range(num_days)\n",
    "\n",
    "date_change = floor(num_days / 2)"
   ]
  },
  {
   "cell_type": "code",
   "execution_count": 4,
   "id": "2edf13d4",
   "metadata": {},
   "outputs": [],
   "source": [
    "def nonretroactive_change(confirmed, probable, date_change):\n",
    "    vals = [c + p for c, p in zip(confirmed[:date_change], probable[:date_change])] + confirmed[date_change:]\n",
    "    \n",
    "    return pd.DataFrame([ vals[:ind + 1] for ind in range(len(vals))]).T"
   ]
  },
  {
   "cell_type": "code",
   "execution_count": 5,
   "id": "191c64fa",
   "metadata": {},
   "outputs": [],
   "source": [
    "def retroactive_change(confirmed, probable, date_change):\n",
    "    orig_vals = [c + p for c, p in zip(confirmed[:date_change], probable[:date_change])]\n",
    "    \n",
    "    vals = [ orig_vals[:ind + 1] for ind in range(date_change)] \\\n",
    "        + [confirmed[:ind + 1] for ind in range(date_change, num_days)]\n",
    "    \n",
    "    return pd.DataFrame(vals).T"
   ]
  },
  {
   "cell_type": "code",
   "execution_count": 6,
   "id": "805fc119",
   "metadata": {},
   "outputs": [],
   "source": [
    "def add_plot_shift(releases_df, shift=.05):\n",
    "    df = pd.DataFrame()\n",
    "    \n",
    "    for i, col_info in enumerate(releases_df.iteritems()):\n",
    "        name, vals = col_info\n",
    "        df[f'Release {name + 1}'] = vals + (i * shift)\n",
    "    \n",
    "    return df"
   ]
  },
  {
   "cell_type": "code",
   "execution_count": 90,
   "id": "bdd043d5",
   "metadata": {},
   "outputs": [],
   "source": [
    "def plot_multiple_releases(\n",
    "    title,\n",
    "    confirmed, probable, date_change,\n",
    "    func = nonretroactive_change,\n",
    "    kind=\"Non-Retroactive Change\"\n",
    "):\n",
    "    label = f'{kind}' \n",
    "    title_a = \": \".join(['Change in Values Reported', title])\n",
    "    \n",
    "    both = [p + c for p, c in zip(probable, confirmed)]\n",
    "    releases = func(confirmed=confirmed, probable=probable, date_change=date_change)\n",
    "    max_val = releases.max().max() * 1.2\n",
    "    shift = max_val / 100\n",
    "    releases_p = add_plot_shift(releases, shift)\n",
    "\n",
    "    reds = plt.cm.Reds(np.linspace(0, 1, len(confirmed)))\n",
    "    greens = plt.cm.Greens(np.linspace(0, 1, len(confirmed)))\n",
    "    \n",
    "    plt.style.use('seaborn-ticks')\n",
    "    plt.figure(figsize=(10,7))\n",
    "    ax = plt.gca()\n",
    "    ax.plot(confirmed, 'g--', linewidth=1, label='confirmed')\n",
    "    ax.plot(both, 'r--', linewidth=1, label='probable + confirmed')\n",
    "\n",
    "    ax.spines['top'].set_visible(False)\n",
    "    ax.spines['right'].set_visible(False)\n",
    "    ax.set_ylabel('Cases', fontsize=15)\n",
    "    ax.set_xlabel('Observation Date', fontsize=15)\n",
    "    plt.title(title_a + \" \" + label, fontsize = 20)\n",
    "    plt.ylim(top=max_val, bottom = 0)\n",
    "    plt.xticks(fontsize=15)\n",
    "    plt.yticks(fontsize=15)\n",
    "    plt.tick_params(\n",
    "        axis='x',          \n",
    "        which='both',      \n",
    "        bottom=False,      \n",
    "        top=False,         \n",
    "        labelbottom=True\n",
    "    ) \n",
    "    \n",
    "    i = 0\n",
    "    \n",
    "    for ind, release in releases_p.iteritems():\n",
    "        first_color = reds\n",
    "        \n",
    "        if kind==\"Retroactive Change\" and i >= date_change:\n",
    "            first_color = greens\n",
    "        \n",
    "        ax.plot(release[:date_change+1], '-', color=first_color[i], linewidth=1, label=ind )\n",
    "        ax.plot(release[date_change:], '-', color=greens[i], linewidth=1, label=ind )\n",
    "        i += 1\n",
    "     \n",
    "    ax.text(0.95, 0.13, 'release date',\n",
    "        verticalalignment='bottom', horizontalalignment='right',\n",
    "        transform=ax.transAxes,\n",
    "        color='black', fontsize=15)\n",
    "    ax.text(0.95, 0.1, '- - confirmed',\n",
    "        verticalalignment='bottom', horizontalalignment='right',\n",
    "        transform=ax.transAxes,\n",
    "        color='green', fontsize=15)\n",
    "    ax.text(0.95, 0.07, f'—  usable data',\n",
    "        verticalalignment='bottom', horizontalalignment='right',\n",
    "        transform=ax.transAxes,\n",
    "        color='green', fontsize=15)\n",
    "    ax.text(0.95, 0.04, '- - probable + confirmed',\n",
    "        verticalalignment='bottom', horizontalalignment='right',\n",
    "        transform=ax.transAxes,\n",
    "        color='red', fontsize=15)\n",
    "    ax.text(0.95, 0.01, f'— obsolete data',\n",
    "        verticalalignment='bottom', horizontalalignment='right',\n",
    "        transform=ax.transAxes,\n",
    "        color='red', fontsize=15)\n",
    "    ax.get_yaxis().set_major_formatter(mtk.FuncFormatter(lambda x, p: format(int(x), ',')))\n",
    "    \n",
    "    i = 0\n",
    "    for ind, release in releases_p.iteritems():   \n",
    "        size = 70\n",
    "        if i > 8 :\n",
    "            size = 160\n",
    "        ax.scatter( i, release[i], marker=r\"$ {} $\".format(i + 1), color=\"black\", s=size)\n",
    "        i += 1\n",
    "\n",
    "    plt.savefig(f'../latex/plots/example_{title}_{kind}.png')\n",
    "    plt.clf()"
   ]
  },
  {
   "cell_type": "code",
   "execution_count": 91,
   "id": "e965267e",
   "metadata": {},
   "outputs": [
    {
     "data": {
      "text/plain": [
       "<Figure size 720x504 with 0 Axes>"
      ]
     },
     "metadata": {},
     "output_type": "display_data"
    },
    {
     "data": {
      "text/plain": [
       "<Figure size 720x504 with 0 Axes>"
      ]
     },
     "metadata": {},
     "output_type": "display_data"
    }
   ],
   "source": [
    "plot_multiple_releases(\"Daily Cases\",\n",
    "                confirmed, probable, date_change)\n",
    "plot_multiple_releases(\"Daily Cases\",\n",
    "                confirmed, probable, date_change,\n",
    "                retroactive_change, \"Retroactive Change\")"
   ]
  },
  {
   "cell_type": "code",
   "execution_count": 92,
   "id": "15a12623",
   "metadata": {},
   "outputs": [
    {
     "data": {
      "text/plain": [
       "<Figure size 720x504 with 0 Axes>"
      ]
     },
     "metadata": {},
     "output_type": "display_data"
    },
    {
     "data": {
      "text/plain": [
       "<Figure size 720x504 with 0 Axes>"
      ]
     },
     "metadata": {},
     "output_type": "display_data"
    }
   ],
   "source": [
    "confirmed_c, probable_c = list(np.cumsum(confirmed)), list(np.cumsum(probable))\n",
    "plot_multiple_releases(\"Cumulative Cases\",\n",
    "                confirmed_c, probable_c,  date_change,\n",
    "                nonretroactive_change, \"Non-Retroactive Change\")\n",
    "plot_multiple_releases(\"Cumulative Cases\",\n",
    "                confirmed_c, probable_c, date_change,\n",
    "                retroactive_change, \"Retroactive Change\")"
   ]
  },
  {
   "cell_type": "markdown",
   "id": "0712d1fe",
   "metadata": {},
   "source": [
    "# DO NOT ADD BELOW TO SCRIPT"
   ]
  },
  {
   "cell_type": "code",
   "execution_count": 93,
   "id": "a0e309d8",
   "metadata": {},
   "outputs": [
    {
     "name": "stdout",
     "output_type": "stream",
     "text": [
      "[NbConvertApp] Converting notebook ProductionChangeSimulator.ipynb to script\n",
      "[NbConvertApp] Writing 6283 bytes to ProductionChangeSimulator.py\n"
     ]
    }
   ],
   "source": [
    "! jupyter nbconvert --to script ProductionChangeSimulator.ipynb"
   ]
  },
  {
   "cell_type": "code",
   "execution_count": 94,
   "id": "3ba8e0d3",
   "metadata": {},
   "outputs": [],
   "source": [
    "! mv ProductionChangeSimulator.py ../latex/code/notebooks/ProductionChangeSimulator.py"
   ]
  },
  {
   "cell_type": "code",
   "execution_count": 95,
   "id": "d5765809",
   "metadata": {},
   "outputs": [],
   "source": [
    "import re\n",
    "\n",
    "f_name = \"../latex/code/notebooks/ProductionChangeSimulator.py\"\n",
    "do_not_add_below_to_script = \"# DO NOT ADD BELOW TO SCRIPT\" # must match the markdown above!\n",
    "skip = 0\n",
    "cell_nums = re.escape(\"# In[\") + r\"[0-9]*\" + re.escape(\"]:\")\n",
    "\n",
    "with open(f_name, \"r\") as f:\n",
    "    lines = f.readlines() # get a list of lines from the converted script\n",
    "\n",
    "with open(f_name, \"w\") as f: # overwrite the original converted script\n",
    "\n",
    "    for line in lines:\n",
    "        \n",
    "        if re.search(cell_nums , line.strip()): # don't include the '#In[##]:' lines\n",
    "            skip = 2\n",
    "\n",
    "        elif skip > 0 and line == \"\\n\": # trim extra blank lines below #In[##]:' lines\n",
    "            skip -=1\n",
    "        \n",
    "        elif re.search(do_not_add_below_to_script, line): # don't include this code \n",
    "            break\n",
    "\n",
    "        else:\n",
    "            f.write(line)"
   ]
  }
 ],
 "metadata": {
  "kernelspec": {
   "display_name": "Python 3",
   "language": "python",
   "name": "python3"
  },
  "language_info": {
   "codemirror_mode": {
    "name": "ipython",
    "version": 3
   },
   "file_extension": ".py",
   "mimetype": "text/x-python",
   "name": "python",
   "nbconvert_exporter": "python",
   "pygments_lexer": "ipython3",
   "version": "3.8.8"
  }
 },
 "nbformat": 4,
 "nbformat_minor": 5
}
