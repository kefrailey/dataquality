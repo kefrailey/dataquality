{
 "cells": [
  {
   "cell_type": "code",
   "execution_count": 1,
   "metadata": {},
   "outputs": [],
   "source": [
    "import numpy.typing as npt\n",
    "import numpy as np"
   ]
  },
  {
   "cell_type": "code",
   "execution_count": 2,
   "metadata": {},
   "outputs": [],
   "source": [
    "test_array = np.array(\n",
    "    [[0,1,1,1, 1],\n",
    "     [0,0,3,3, 3],\n",
    "     [0,0,0,25, 25],\n",
    "     [0,0,0,0, 24],\n",
    "     [0,0,0,0, 0]\n",
    "     ]\n",
    "    )\n",
    "\n",
    "test_array_nulls = np.array(\n",
    "    [[0,1,1, np.nan, 1],\n",
    "     [0,0,3, np.nan, 3],\n",
    "     [0,0,0,25, 25],\n",
    "     [0,0,0,0, 24],\n",
    "     [0,0,0,0, 0]\n",
    "     ]\n",
    "    )\n",
    "\n",
    "test_array_ff = np.array(\n",
    "    [[0,1,1, 3, 1],\n",
    "     [0,0,0, 0, 3], # obsv 1 IS ff\n",
    "     [0,0,0, 0, 0], # obsv 2 is NOT ff\n",
    "     [0,0,0, 0, 24],\n",
    "     [0,0,0, 0, 0]\n",
    "     ]\n",
    "    )\n",
    "\n",
    "test_array_dec = np.array(\n",
    "    [[0, 3, 3, 3, 3],\n",
    "     [0, 0, -1, -1, -1], # decrease\n",
    "     [0, 0, 0, 2, -1], # decrease # 2\n",
    "     [0, 0, 0, 0, 2],\n",
    "     [0, 0, 0, 0, 0]\n",
    "     ]\n",
    "    )"
   ]
  },
  {
   "cell_type": "code",
   "execution_count": 3,
   "metadata": {},
   "outputs": [],
   "source": [
    "Vector = npt.ArrayLike\n",
    "Array = npt.ArrayLike "
   ]
  },
  {
   "cell_type": "code",
   "execution_count": 4,
   "metadata": {},
   "outputs": [],
   "source": [
    "def we_sum(summands: Vector) -> float:\n",
    "    summands_ = [s for s in summands if ~np.isnan(s)]\n",
    "\n",
    "    if len(summands_) > 0:\n",
    "        return sum( [ ( i + 1)*val for i, val in enumerate(summands_) ])\n",
    "    else:\n",
    "        return np.nan\n"
   ]
  },
  {
   "cell_type": "code",
   "execution_count": 5,
   "metadata": {},
   "outputs": [],
   "source": [
    "def we_average(summands: Vector) -> float:\n",
    "\n",
    "    summands_ = [s for s in summands if ~np.isnan(s)]\n",
    "    i = len(summands_)\n",
    "\n",
    "    if i == 0:\n",
    "\n",
    "        return np.NaN\n",
    "    \n",
    "    return (2 / ( i *( i + 1)))*we_sum(summands_)"
   ]
  },
  {
   "cell_type": "code",
   "execution_count": 6,
   "metadata": {},
   "outputs": [],
   "source": [
    "def max_index_true(vals: Vector) -> int:\n",
    "    return max( [ i * int( val ) for i, val in enumerate(vals)])"
   ]
  },
  {
   "cell_type": "markdown",
   "metadata": {},
   "source": [
    "# Accuracy"
   ]
  },
  {
   "cell_type": "code",
   "execution_count": 7,
   "metadata": {},
   "outputs": [],
   "source": [
    "def accuracy(truth: float, val: float) -> float:\n",
    "    \n",
    "    if truth == val:\n",
    "        return 0\n",
    "    \n",
    "    else:\n",
    "        return truth - val\n",
    "\n",
    "\n",
    "def measure_accuracy(release: Vector, truth: Vector, release_num: int) -> float:\n",
    "    \"\"\"Directly measure accuracy of a release, with increased weight to more recent observations\"\"\"\n",
    "\n",
    "    summands = [accuracy(t, r) for t, r in zip(truth[:release_num], release[:release_num])]\n",
    "\n",
    "    return we_average(summands)"
   ]
  },
  {
   "cell_type": "code",
   "execution_count": 8,
   "metadata": {},
   "outputs": [],
   "source": [
    "def estimate_accuracy(releases: Array, offset: int) -> float:\n",
    "\n",
    "    num_releases = releases.shape[1] - 1\n",
    "    summands = []\n",
    "\n",
    "    for i in range(1, num_releases - offset):\n",
    "\n",
    "        release = releases[: i, i]\n",
    "        truth = releases[: i, i + offset]\n",
    "        \n",
    "        summands.append(measure_accuracy(release, truth, i))\n",
    "\n",
    "    summands_ = [s for s in summands if ~np.isnan(s)]\n",
    "\n",
    "    if len(summands_) == 0:\n",
    "        return 0\n",
    "    return  sum(summands_) / len(summands_)\n"
   ]
  },
  {
   "cell_type": "code",
   "execution_count": 9,
   "metadata": {},
   "outputs": [],
   "source": [
    "def measure_accuracy_release_history(releases, offset):\n",
    "    num_measurable = releases.shape[1] - offset\n",
    "    measured = []\n",
    "\n",
    "    for i in range(1, num_measurable):\n",
    "        release = releases[:i, i]\n",
    "        truth = releases[:i, i + offset]\n",
    "        measured.append( measure_accuracy( release, truth, i))\n",
    "\n",
    "    return we_average(measured) "
   ]
  },
  {
   "cell_type": "code",
   "execution_count": 10,
   "metadata": {},
   "outputs": [],
   "source": [
    "def assess_accuracy_release_history( releases, offset):\n",
    "\n",
    "    num_measurable = releases.shape[1] - offset\n",
    "    measured = []\n",
    "\n",
    "    for i in range(1, num_measurable):\n",
    "        release = releases[:i, i]\n",
    "        truth = releases[:i, i + offset]\n",
    "        measured.append( measure_accuracy( release, truth, i))\n",
    "\n",
    "    measured_ = [m for m in measured if ~np.isnan(m)]\n",
    "\n",
    "    if len(measured_) > 0:\n",
    "        estimated_val =  sum( measured_ )/ len(measured_)\n",
    "        estimated = [estimated_val] * offset\n",
    "        measured += estimated\n",
    "\n",
    "    return we_average(measured) \n"
   ]
  },
  {
   "cell_type": "markdown",
   "metadata": {},
   "source": [
    "# Consistency"
   ]
  },
  {
   "cell_type": "markdown",
   "metadata": {},
   "source": [
    "## Nonretroactive Change"
   ]
  },
  {
   "cell_type": "code",
   "execution_count": 11,
   "metadata": {},
   "outputs": [],
   "source": [
    "def modified_z_score(vals: Vector, val_to_evaluate: float) -> float:\n",
    "\n",
    "    median_val = np.mean(np.median(vals))\n",
    "    diffs = np.abs( vals - median_val)\n",
    "    median_diff = np.median( diffs )\n",
    "\n",
    "    if median_diff == 0:  ##### this is not right\n",
    "        return (val_to_evaluate - median_val)/(1.253314* np.mean(diffs))\n",
    "    \n",
    "    else:\n",
    "\n",
    "        return 0.6745 * (val_to_evaluate - median_val)/ median_diff"
   ]
  },
  {
   "cell_type": "code",
   "execution_count": 12,
   "metadata": {},
   "outputs": [],
   "source": [
    "def check_nrc(release: Array, obsv_to_evaluate: int, alpha: float = 3.5, window: int = 21, neg=False) -> bool:\n",
    "    \"\"\"Checks if obsv_to_evaluate is an nonretroactive change\"\"\"\n",
    "\n",
    "    # no values should be below 0\n",
    "\n",
    "\n",
    "    vals = release[obsv_to_evaluate - window: obsv_to_evaluate]\n",
    "    val_to_evaluate = release[obsv_to_evaluate]\n",
    "    if neg and (val_to_evaluate < 0):\n",
    "        return True\n",
    "    mz_score =  modified_z_score(vals, val_to_evaluate)\n",
    "    \n",
    "    return (abs(mz_score) > alpha ) "
   ]
  },
  {
   "cell_type": "code",
   "execution_count": 13,
   "metadata": {},
   "outputs": [],
   "source": [
    "def nrcs_in_release(release: Vector, release_num: int, alpha:float = 3.5, window:int = 21, neg=False)-> Array:\n",
    "    \"\"\"Return list of indices of the nonretroactive changes \"\"\"\n",
    "\n",
    "    # raise exception if window >= release_num ?\n",
    "\n",
    "    nrcs = []\n",
    "\n",
    "    if window < release_num:\n",
    "        for i in range(window, release_num):\n",
    "            nrcs.append( (i, check_nrc(release, i, alpha, window, neg) ) )\n",
    "    \n",
    "    return nrcs"
   ]
  },
  {
   "cell_type": "code",
   "execution_count": 14,
   "metadata": {},
   "outputs": [],
   "source": [
    "def nrcs_in_releases(releases: Array, **kwargs) -> Array:\n",
    "\n",
    "    nrcs = np.full(releases.shape, False)\n",
    "    num_releases = releases.shape[1] - 1\n",
    "\n",
    "    for i in range(1, releases.shape[1]):\n",
    "\n",
    "        release_nrcs = nrcs_in_release(releases[:, i], i, **kwargs)\n",
    "\n",
    "        for obsv, val in release_nrcs:\n",
    "            nrcs[obsv, i] = val\n",
    "\n",
    "    return nrcs"
   ]
  },
  {
   "cell_type": "code",
   "execution_count": 15,
   "metadata": {},
   "outputs": [],
   "source": [
    "def shared_nrcs(releases: Array, beta: float =.8, **kwargs) -> list:\n",
    "\n",
    "    num_releases = releases.shape[1] - 1 # 0 is not a release\n",
    "    \n",
    "    nrcs = nrcs_in_releases(releases, **kwargs)\n",
    "    \n",
    "    num_nrcs = np.sum(nrcs, axis=1).tolist()\n",
    "\n",
    "    #last possible nrc cant be shared because it has only appeared in last release\n",
    "    shared = [ (num_nrc_i / (num_releases - i)) > beta for i, num_nrc_i in enumerate(num_nrcs[:-1])] \n",
    "\n",
    "    return shared\n",
    "\n",
    "\n",
    "def most_recent_shared_nrc(releases: Array, **kwargs):\n",
    "\n",
    "    vals = shared_nrcs(releases, **kwargs)\n",
    "\n",
    "    return max_index_true(vals)"
   ]
  },
  {
   "cell_type": "code",
   "execution_count": 16,
   "metadata": {},
   "outputs": [],
   "source": [
    "def most_recent_nrc(release: Array, release_num:int, **kwargs) -> int:\n",
    "\n",
    "    vals = nrcs_in_release(release, release_num, **kwargs)\n",
    "    nrcs = [ i * int(val) for i, val in vals]\n",
    "\n",
    "    return max(nrcs)"
   ]
  },
  {
   "cell_type": "code",
   "execution_count": 17,
   "metadata": {},
   "outputs": [
    {
     "data": {
      "text/plain": [
       "10"
      ]
     },
     "execution_count": 17,
     "metadata": {},
     "output_type": "execute_result"
    }
   ],
   "source": [
    "release = [1,2,3,5,6,7,1,3,5,1,1000099999999999999905,1,0]\n",
    "\n",
    "most_recent_nrc(release, 12, window=2)"
   ]
  },
  {
   "cell_type": "code",
   "execution_count": 18,
   "metadata": {},
   "outputs": [],
   "source": [
    "\n",
    "nrcs = nrcs_in_releases(test_array, window=2)"
   ]
  },
  {
   "cell_type": "markdown",
   "metadata": {},
   "source": [
    "## Major Restatement"
   ]
  },
  {
   "cell_type": "code",
   "execution_count": 19,
   "metadata": {},
   "outputs": [],
   "source": [
    "def major_restatement(release: Vector, release_num: int, prior_release: Vector, alpha : float = 4, beta : float =.2) -> bool:\n",
    "\n",
    "    summands = 0\n",
    "\n",
    "    for obsv in range( release_num - 1):\n",
    "\n",
    "        new_val = release[obsv]\n",
    "        old_val = prior_release[obsv]\n",
    "\n",
    "        if new_val !=0:\n",
    "            indicator = abs(accuracy(old_val, new_val)) > alpha\n",
    "            summands += indicator\n",
    "        \n",
    "        else:\n",
    "            summands += int(new_val != old_val)\n",
    "\n",
    "    return summands > (beta * ( release_num - 1))"
   ]
  },
  {
   "cell_type": "code",
   "execution_count": 20,
   "metadata": {},
   "outputs": [],
   "source": [
    "def most_recent_major_restatement(release: Vector, release_num: int, prior_release : Vector, previous_mr :int =0, **kwargs) -> int:\n",
    "\n",
    "    if major_restatement(release, release_num, prior_release, **kwargs):\n",
    "        return release_num\n",
    "    \n",
    "    else:\n",
    "        return previous_mr"
   ]
  },
  {
   "cell_type": "code",
   "execution_count": 21,
   "metadata": {},
   "outputs": [],
   "source": [
    "def measure_consistency_mr(release_num: int, most_recent_mr: int=0) -> float:\n",
    "    return (release_num - most_recent_mr) / release_num"
   ]
  },
  {
   "cell_type": "code",
   "execution_count": 22,
   "metadata": {},
   "outputs": [
    {
     "data": {
      "text/plain": [
       "False"
      ]
     },
     "execution_count": 22,
     "metadata": {},
     "output_type": "execute_result"
    }
   ],
   "source": [
    "major_restatement(test_array[:,3], 3, test_array[:,2])"
   ]
  },
  {
   "cell_type": "markdown",
   "metadata": {},
   "source": [
    "# Completeness"
   ]
  },
  {
   "cell_type": "code",
   "execution_count": 23,
   "metadata": {},
   "outputs": [],
   "source": [
    "def measure_release_completeness(release: Vector, release_num: int) -> float:\n",
    "\n",
    "    summands = [ ~np.isnan(val) for val in release[: release_num]]\n",
    "\n",
    "    return we_average(summands)"
   ]
  },
  {
   "cell_type": "code",
   "execution_count": 24,
   "metadata": {},
   "outputs": [
    {
     "data": {
      "text/plain": [
       "0.9047619047619047"
      ]
     },
     "execution_count": 24,
     "metadata": {},
     "output_type": "execute_result"
    }
   ],
   "source": [
    "measure_release_completeness([1, np.nan, 3, 4, 0,0,0,0,0], 6)"
   ]
  },
  {
   "cell_type": "code",
   "execution_count": 25,
   "metadata": {},
   "outputs": [],
   "source": [
    "def measure_release_history_completeness(releases, release_num):\n",
    "\n",
    "    summands = [measure_release_completeness(releases[:, i], i) for i in range(1, release_num + 1)]\n",
    "\n",
    "    return we_average(summands)"
   ]
  },
  {
   "cell_type": "code",
   "execution_count": 26,
   "metadata": {},
   "outputs": [
    {
     "data": {
      "text/plain": [
       "0.8500000000000001"
      ]
     },
     "execution_count": 26,
     "metadata": {},
     "output_type": "execute_result"
    }
   ],
   "source": [
    "measure_release_history_completeness(test_array_nulls, 4)"
   ]
  },
  {
   "cell_type": "markdown",
   "metadata": {},
   "source": [
    "# Timeliness, Completeness, and Believabilty"
   ]
  },
  {
   "cell_type": "code",
   "execution_count": 27,
   "metadata": {},
   "outputs": [],
   "source": [
    "def was_filled_forward(observation: Vector, obsv_num, window: int = 7):\n",
    "\n",
    "    if observation[obsv_num + 1] == 0:\n",
    "       is_zero = [ val == 0 for val in observation[obsv_num + 1 : obsv_num + window + 1]]\n",
    "       return not all(is_zero)\n",
    "\n"
   ]
  },
  {
   "cell_type": "code",
   "execution_count": 28,
   "metadata": {},
   "outputs": [],
   "source": [
    "def estimate_filled_forward(releases, release_num, window=7):\n",
    "\n",
    "    summands = []\n",
    "\n",
    "    for i in range(release_num - window + 1): # obsv i - 1 will not have had a chance to be rewritten\n",
    "\n",
    "        obsv = releases[i, : release_num ]\n",
    "\n",
    "        if obsv[i+1] == 0:\n",
    "            summands.append(was_filled_forward(obsv, i, window ))\n",
    "\n",
    "    if len(summands) == 0:\n",
    "        return np.nan\n",
    "\n",
    "    return sum(summands) / len(summands)"
   ]
  },
  {
   "cell_type": "code",
   "execution_count": 29,
   "metadata": {},
   "outputs": [
    {
     "data": {
      "text/plain": [
       "0.0"
      ]
     },
     "execution_count": 29,
     "metadata": {},
     "output_type": "execute_result"
    }
   ],
   "source": [
    "estimate_filled_forward(test_array_ff, test_array_ff.shape[1]- 1, 2)"
   ]
  },
  {
   "cell_type": "markdown",
   "metadata": {},
   "source": [
    "# Validity and Believability"
   ]
  },
  {
   "cell_type": "code",
   "execution_count": 30,
   "metadata": {},
   "outputs": [],
   "source": [
    "def measure_decreasing(releases, release_num):\n",
    "    \"\"\" Assums releases are full of net increase\n",
    "    \"\"\"\n",
    "\n",
    "    num_decreases = 0\n",
    "\n",
    "    for i in range(release_num):\n",
    "\n",
    "        obsvs = releases[i, i+1 : release_num + 1]\n",
    "        decreases = [obsv < 0 for obsv in obsvs]\n",
    "\n",
    "        num_decreases += int(any(decreases))\n",
    "\n",
    "    return num_decreases\n"
   ]
  },
  {
   "cell_type": "code",
   "execution_count": 31,
   "metadata": {},
   "outputs": [
    {
     "data": {
      "text/plain": [
       "2"
      ]
     },
     "execution_count": 31,
     "metadata": {},
     "output_type": "execute_result"
    }
   ],
   "source": [
    "measure_decreasing(test_array_dec, test_array_dec.shape[1] - 1)"
   ]
  },
  {
   "cell_type": "markdown",
   "metadata": {},
   "source": [
    "# Believability"
   ]
  },
  {
   "cell_type": "code",
   "execution_count": 32,
   "metadata": {},
   "outputs": [],
   "source": [
    "def measure_weekliness(release, release_num, num_weeks=7, alpha = .33):\n",
    "\n",
    "    first_obsv = max(0, release_num - ( 7 * num_weeks))\n",
    "\n",
    "    totals = []\n",
    "    num_per_weekday = []\n",
    "\n",
    "    # get the totals of nonneg values per 7 days chunks\n",
    "    for i in range( num_weeks):\n",
    "        if i < release_num:\n",
    "            observations = [ day for day in range( min( first_obsv + i*7, release_num),  min(first_obsv + (i+1)*7, release_num) )]\n",
    "\n",
    "            totals += [sum([ max(0, v) for v in release[observations]])]*len(observations)\n",
    "\n",
    "    # get the value for each observation\n",
    "    # for i in range(7):\n",
    "    #     observations = [ day for day in range(first_obsv, release_num) if day % 7 == i ]\n",
    "    #     num_per_weekday.append(sum(release[observations]))\n",
    "\n",
    "    # get the percent of nonneg vals per 7 day chunk (edge case: when nonneg sum==0, then perc will be 0)\n",
    "    observations = [ day for day in range(first_obsv, release_num) ]\n",
    "    vals = [ max(0, num ) / max( 1, total) for num, total in zip(release[observations], totals)]\n",
    "\n",
    "    # get median perc of 7 day chunk\n",
    "    avg_percents = []\n",
    "    for i in range(7):\n",
    "        avg_percents.append( np.mean(np.median([v for ind, v in enumerate(vals) if ind % 7 == i])) )\n",
    "\n",
    "    violation = [a > alpha for a in avg_percents]\n",
    "\n",
    "    return sum(violation)"
   ]
  },
  {
   "cell_type": "markdown",
   "metadata": {},
   "source": [
    "# DO NOT ADD BELOW TO SCRIPT"
   ]
  },
  {
   "cell_type": "code",
   "execution_count": 33,
   "metadata": {},
   "outputs": [
    {
     "data": {
      "text/plain": [
       "'../latex/code/notebooks/Metrics_TimeSeries.py'"
      ]
     },
     "execution_count": 33,
     "metadata": {},
     "output_type": "execute_result"
    }
   ],
   "source": [
    "import jupyckage.jupyckage as jp \n",
    "import shutil\n",
    "\n",
    "to_latex_folder = \"../latex/code/notebooks/\"\n",
    "\n",
    "notebook_name = \"Metrics_TimeSeries\"\n",
    "\n",
    "jp.notebook_to_package(f'{notebook_name}.ipynb')\n",
    "\n",
    "shutil.copy( f'notebooks/src/{notebook_name}/{notebook_name}.py', f'{to_latex_folder}{notebook_name}.py')\n"
   ]
  }
 ],
 "metadata": {
  "kernelspec": {
   "display_name": "Python 3",
   "language": "python",
   "name": "python3"
  },
  "language_info": {
   "codemirror_mode": {
    "name": "ipython",
    "version": 3
   },
   "file_extension": ".py",
   "mimetype": "text/x-python",
   "name": "python",
   "nbconvert_exporter": "python",
   "pygments_lexer": "ipython3",
   "version": "3.8.8"
  },
  "vscode": {
   "interpreter": {
    "hash": "696614e554172991e4cdcae24582ddba472d4b725082833a9c468eca202a50d5"
   }
  }
 },
 "nbformat": 4,
 "nbformat_minor": 2
}
